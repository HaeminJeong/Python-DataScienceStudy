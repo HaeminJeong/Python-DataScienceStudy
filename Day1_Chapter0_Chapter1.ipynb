{
  "nbformat": 4,
  "nbformat_minor": 0,
  "metadata": {
    "colab": {
      "name": "Day1_Chapter0_Chapter1.ipynb",
      "provenance": [],
      "authorship_tag": "ABX9TyPBMZE7LGPuvqHEnRaMCg2R",
      "include_colab_link": true
    },
    "kernelspec": {
      "name": "python3",
      "display_name": "Python 3"
    }
  },
  "cells": [
    {
      "cell_type": "markdown",
      "metadata": {
        "id": "view-in-github",
        "colab_type": "text"
      },
      "source": [
        "<a href=\"https://colab.research.google.com/github/HaeminJeong/Python-DataScienceStudy/blob/main/Day1_Chapter0_Chapter1.ipynb\" target=\"_parent\"><img src=\"https://colab.research.google.com/assets/colab-badge.svg\" alt=\"Open In Colab\"/></a>"
      ]
    },
    {
      "cell_type": "markdown",
      "metadata": {
        "id": "ofPh5RY2-UaS"
      },
      "source": [
        "# 1일차 공부\n",
        "- Chapter0 : pandas numpy matpolib\n",
        "- Chapter1 : \n"
      ]
    },
    {
      "cell_type": "markdown",
      "metadata": {
        "id": "8OdHzYC9-sWx"
      },
      "source": [
        "## 코랩에 깃 클론하기"
      ]
    },
    {
      "cell_type": "code",
      "metadata": {
        "colab": {
          "base_uri": "https://localhost:8080/"
        },
        "id": "sFMhODcS9FNo",
        "outputId": "a771adce-e83b-4015-9433-ff37120dbcd1"
      },
      "source": [
        "# 1. 구글 드라이브 마운트\n",
        "from google.colab import drive\n",
        "drive.mount('/content/drive')"
      ],
      "execution_count": 1,
      "outputs": [
        {
          "output_type": "stream",
          "text": [
            "Mounted at /content/drive\n"
          ],
          "name": "stdout"
        }
      ]
    },
    {
      "cell_type": "code",
      "metadata": {
        "colab": {
          "base_uri": "https://localhost:8080/"
        },
        "id": "q1m1tDS-9Y_Z",
        "outputId": "1ff9b943-dade-44a1-82f1-fed799713916"
      },
      "source": [
        "!git clone https://github.com/yoonkt200/python-data-analysis.git '/content/drive/MyDrive/PytorchStudy/python-data'"
      ],
      "execution_count": 4,
      "outputs": [
        {
          "output_type": "stream",
          "text": [
            "Cloning into '/content/drive/MyDrive/PytorchStudy/python-data'...\n",
            "remote: Enumerating objects: 52, done.\u001b[K\n",
            "remote: Counting objects: 100% (52/52), done.\u001b[K\n",
            "remote: Compressing objects: 100% (40/40), done.\u001b[K\n",
            "remote: Total 904 (delta 25), reused 34 (delta 12), pack-reused 852\u001b[K\n",
            "Receiving objects: 100% (904/904), 90.70 MiB | 12.44 MiB/s, done.\n",
            "Resolving deltas: 100% (514/514), done.\n",
            "Checking out files: 100% (68/68), done.\n"
          ],
          "name": "stdout"
        }
      ]
    },
    {
      "cell_type": "code",
      "metadata": {
        "colab": {
          "base_uri": "https://localhost:8080/",
          "height": 35
        },
        "id": "Ce5hdeXO-wxP",
        "outputId": "a9ab6fae-7e2d-4353-969e-0213dbafc2b7"
      },
      "source": [
        "pwd"
      ],
      "execution_count": 57,
      "outputs": [
        {
          "output_type": "execute_result",
          "data": {
            "application/vnd.google.colaboratory.intrinsic+json": {
              "type": "string"
            },
            "text/plain": [
              "'/content'"
            ]
          },
          "metadata": {
            "tags": []
          },
          "execution_count": 57
        }
      ]
    },
    {
      "cell_type": "code",
      "metadata": {
        "colab": {
          "base_uri": "https://localhost:8080/"
        },
        "id": "cdnIbo-nQ1bT",
        "outputId": "5945707b-bbbd-4681-9633-3dc3e6bb9f38"
      },
      "source": [
        "cd /content/drive/MyDrive/PytorchStudy"
      ],
      "execution_count": 58,
      "outputs": [
        {
          "output_type": "stream",
          "text": [
            "/content/drive/MyDrive/PytorchStudy\n"
          ],
          "name": "stdout"
        }
      ]
    },
    {
      "cell_type": "code",
      "metadata": {
        "colab": {
          "base_uri": "https://localhost:8080/",
          "height": 35
        },
        "id": "L_1bN4JCQ7Ew",
        "outputId": "ec15793b-9da7-43ea-a188-e38712313847"
      },
      "source": [
        "pwd"
      ],
      "execution_count": 59,
      "outputs": [
        {
          "output_type": "execute_result",
          "data": {
            "application/vnd.google.colaboratory.intrinsic+json": {
              "type": "string"
            },
            "text/plain": [
              "'/content/drive/MyDrive/PytorchStudy'"
            ]
          },
          "metadata": {
            "tags": []
          },
          "execution_count": 59
        }
      ]
    },
    {
      "cell_type": "markdown",
      "metadata": {
        "id": "mFFZbl_L-xSi"
      },
      "source": [
        "## Chapter0 :기본 라이브러리\n",
        "###"
      ]
    },
    {
      "cell_type": "markdown",
      "metadata": {
        "id": "qbP5SC0gAXHX"
      },
      "source": [
        "## Chapter1 멕시코풍 프랜차이즈 Chipotle의 주문 데이터 분석하기"
      ]
    },
    {
      "cell_type": "code",
      "metadata": {
        "id": "oXWfCDB0AfHR"
      },
      "source": [
        "import pandas as pd\n",
        "\n",
        "# read_csv 함수로 데이터를 Dataframe 형태로 불러옵니다.\n",
        "file_path = '/content/drive/MyDrive/PytorchStudy/python-data/data/chipotle.tsv'\n",
        "chipo = pd.read_csv(file_path, sep = '\\t')"
      ],
      "execution_count": 5,
      "outputs": []
    },
    {
      "cell_type": "code",
      "metadata": {
        "colab": {
          "base_uri": "https://localhost:8080/"
        },
        "id": "_BBwVET7AzOl",
        "outputId": "cd0878cb-6c81-4f42-b34c-5a3036f2e942"
      },
      "source": [
        "print(chipo.shape)\n",
        "print(\"------------------------------------\")\n",
        "print(chipo.info())"
      ],
      "execution_count": 6,
      "outputs": [
        {
          "output_type": "stream",
          "text": [
            "(4622, 5)\n",
            "------------------------------------\n",
            "<class 'pandas.core.frame.DataFrame'>\n",
            "RangeIndex: 4622 entries, 0 to 4621\n",
            "Data columns (total 5 columns):\n",
            " #   Column              Non-Null Count  Dtype \n",
            "---  ------              --------------  ----- \n",
            " 0   order_id            4622 non-null   int64 \n",
            " 1   quantity            4622 non-null   int64 \n",
            " 2   item_name           4622 non-null   object\n",
            " 3   choice_description  3376 non-null   object\n",
            " 4   item_price          4622 non-null   object\n",
            "dtypes: int64(2), object(3)\n",
            "memory usage: 180.7+ KB\n",
            "None\n"
          ],
          "name": "stdout"
        }
      ]
    },
    {
      "cell_type": "code",
      "metadata": {
        "colab": {
          "base_uri": "https://localhost:8080/",
          "height": 359
        },
        "id": "EzRLkaRqA4OU",
        "outputId": "9861e9b7-282b-4e7c-a3b6-5bb37fdc5cf4"
      },
      "source": [
        "chipo.tail(10)"
      ],
      "execution_count": 9,
      "outputs": [
        {
          "output_type": "execute_result",
          "data": {
            "text/html": [
              "<div>\n",
              "<style scoped>\n",
              "    .dataframe tbody tr th:only-of-type {\n",
              "        vertical-align: middle;\n",
              "    }\n",
              "\n",
              "    .dataframe tbody tr th {\n",
              "        vertical-align: top;\n",
              "    }\n",
              "\n",
              "    .dataframe thead th {\n",
              "        text-align: right;\n",
              "    }\n",
              "</style>\n",
              "<table border=\"1\" class=\"dataframe\">\n",
              "  <thead>\n",
              "    <tr style=\"text-align: right;\">\n",
              "      <th></th>\n",
              "      <th>order_id</th>\n",
              "      <th>quantity</th>\n",
              "      <th>item_name</th>\n",
              "      <th>choice_description</th>\n",
              "      <th>item_price</th>\n",
              "    </tr>\n",
              "  </thead>\n",
              "  <tbody>\n",
              "    <tr>\n",
              "      <th>4612</th>\n",
              "      <td>1831</td>\n",
              "      <td>1</td>\n",
              "      <td>Carnitas Bowl</td>\n",
              "      <td>[Fresh Tomato Salsa, [Fajita Vegetables, Rice,...</td>\n",
              "      <td>$9.25</td>\n",
              "    </tr>\n",
              "    <tr>\n",
              "      <th>4613</th>\n",
              "      <td>1831</td>\n",
              "      <td>1</td>\n",
              "      <td>Chips</td>\n",
              "      <td>NaN</td>\n",
              "      <td>$2.15</td>\n",
              "    </tr>\n",
              "    <tr>\n",
              "      <th>4614</th>\n",
              "      <td>1831</td>\n",
              "      <td>1</td>\n",
              "      <td>Bottled Water</td>\n",
              "      <td>NaN</td>\n",
              "      <td>$1.50</td>\n",
              "    </tr>\n",
              "    <tr>\n",
              "      <th>4615</th>\n",
              "      <td>1832</td>\n",
              "      <td>1</td>\n",
              "      <td>Chicken Soft Tacos</td>\n",
              "      <td>[Fresh Tomato Salsa, [Rice, Cheese, Sour Cream]]</td>\n",
              "      <td>$8.75</td>\n",
              "    </tr>\n",
              "    <tr>\n",
              "      <th>4616</th>\n",
              "      <td>1832</td>\n",
              "      <td>1</td>\n",
              "      <td>Chips and Guacamole</td>\n",
              "      <td>NaN</td>\n",
              "      <td>$4.45</td>\n",
              "    </tr>\n",
              "    <tr>\n",
              "      <th>4617</th>\n",
              "      <td>1833</td>\n",
              "      <td>1</td>\n",
              "      <td>Steak Burrito</td>\n",
              "      <td>[Fresh Tomato Salsa, [Rice, Black Beans, Sour ...</td>\n",
              "      <td>$11.75</td>\n",
              "    </tr>\n",
              "    <tr>\n",
              "      <th>4618</th>\n",
              "      <td>1833</td>\n",
              "      <td>1</td>\n",
              "      <td>Steak Burrito</td>\n",
              "      <td>[Fresh Tomato Salsa, [Rice, Sour Cream, Cheese...</td>\n",
              "      <td>$11.75</td>\n",
              "    </tr>\n",
              "    <tr>\n",
              "      <th>4619</th>\n",
              "      <td>1834</td>\n",
              "      <td>1</td>\n",
              "      <td>Chicken Salad Bowl</td>\n",
              "      <td>[Fresh Tomato Salsa, [Fajita Vegetables, Pinto...</td>\n",
              "      <td>$11.25</td>\n",
              "    </tr>\n",
              "    <tr>\n",
              "      <th>4620</th>\n",
              "      <td>1834</td>\n",
              "      <td>1</td>\n",
              "      <td>Chicken Salad Bowl</td>\n",
              "      <td>[Fresh Tomato Salsa, [Fajita Vegetables, Lettu...</td>\n",
              "      <td>$8.75</td>\n",
              "    </tr>\n",
              "    <tr>\n",
              "      <th>4621</th>\n",
              "      <td>1834</td>\n",
              "      <td>1</td>\n",
              "      <td>Chicken Salad Bowl</td>\n",
              "      <td>[Fresh Tomato Salsa, [Fajita Vegetables, Pinto...</td>\n",
              "      <td>$8.75</td>\n",
              "    </tr>\n",
              "  </tbody>\n",
              "</table>\n",
              "</div>"
            ],
            "text/plain": [
              "      order_id  ...  item_price\n",
              "4612      1831  ...      $9.25 \n",
              "4613      1831  ...      $2.15 \n",
              "4614      1831  ...      $1.50 \n",
              "4615      1832  ...      $8.75 \n",
              "4616      1832  ...      $4.45 \n",
              "4617      1833  ...     $11.75 \n",
              "4618      1833  ...     $11.75 \n",
              "4619      1834  ...     $11.25 \n",
              "4620      1834  ...      $8.75 \n",
              "4621      1834  ...      $8.75 \n",
              "\n",
              "[10 rows x 5 columns]"
            ]
          },
          "metadata": {
            "tags": []
          },
          "execution_count": 9
        }
      ]
    },
    {
      "cell_type": "code",
      "metadata": {
        "colab": {
          "base_uri": "https://localhost:8080/"
        },
        "id": "px3xlaC7BDYr",
        "outputId": "f71a5da7-6253-44da-d4e3-276ba748124f"
      },
      "source": [
        "print(chipo.columns)\n",
        "print(\"------------------------------------\")\n",
        "print(chipo.index)"
      ],
      "execution_count": 8,
      "outputs": [
        {
          "output_type": "stream",
          "text": [
            "Index(['order_id', 'quantity', 'item_name', 'choice_description',\n",
            "       'item_price'],\n",
            "      dtype='object')\n",
            "------------------------------------\n",
            "RangeIndex(start=0, stop=4622, step=1)\n"
          ],
          "name": "stdout"
        }
      ]
    },
    {
      "cell_type": "code",
      "metadata": {
        "id": "NfYQ_TloBFkB"
      },
      "source": [
        "chipo['order_id'] = chipo['order_id'].astype(str) # order_id는 숫자의 의미를 가지지 않기 때문에 str으로 변환"
      ],
      "execution_count": 10,
      "outputs": []
    },
    {
      "cell_type": "code",
      "metadata": {
        "colab": {
          "base_uri": "https://localhost:8080/"
        },
        "id": "JL4yerNkBaHH",
        "outputId": "a83f161d-ca8c-4a64-fb74-42e5fcc05095"
      },
      "source": [
        "print(chipo.describe())"
      ],
      "execution_count": 14,
      "outputs": [
        {
          "output_type": "stream",
          "text": [
            "          quantity\n",
            "count  4622.000000\n",
            "mean   1.075725   \n",
            "std    0.410186   \n",
            "min    1.000000   \n",
            "25%    1.000000   \n",
            "50%    1.000000   \n",
            "75%    1.000000   \n",
            "max    15.000000  \n"
          ],
          "name": "stdout"
        }
      ]
    },
    {
      "cell_type": "code",
      "metadata": {
        "colab": {
          "base_uri": "https://localhost:8080/"
        },
        "id": "XqCpZt9WB91X",
        "outputId": "dac15446-947b-4f60-ec2c-8f8aee84e63c"
      },
      "source": [
        "print(len(chipo['order_id'].unique())) # order_id의 개수를 출력합니다.\n",
        "print(len(chipo['item_name'].unique())) # item_name의 개수를 출력합니다."
      ],
      "execution_count": 15,
      "outputs": [
        {
          "output_type": "stream",
          "text": [
            "1834\n",
            "50\n"
          ],
          "name": "stdout"
        }
      ]
    },
    {
      "cell_type": "markdown",
      "metadata": {
        "id": "07o4a5GsCGPx"
      },
      "source": [
        "### step2. 인사이트의 발견 : 탐색과 시각화\n",
        "- 가장 많이 주문한 item은 무엇인지\n",
        "- item당 주문의 총량은 얼마인지"
      ]
    },
    {
      "cell_type": "markdown",
      "metadata": {
        "id": "AVDxzaqpCQIu"
      },
      "source": [
        "### 가장 많이 주문한 item"
      ]
    },
    {
      "cell_type": "code",
      "metadata": {
        "colab": {
          "base_uri": "https://localhost:8080/"
        },
        "id": "kKZNnESoCSxo",
        "outputId": "c589c2c1-e3eb-4cc2-c8d3-56246db55238"
      },
      "source": [
        "# 가장 많이 주문한 item: top 10을 출력합니다.\n",
        "item_count = chipo['item_name'].value_counts()[:10]\n",
        "for idx, (val,cnt) in enumerate(item_count.iteritems(), 1):\n",
        "  print(\"Top\", idx, \":\", val, cnt)"
      ],
      "execution_count": 18,
      "outputs": [
        {
          "output_type": "stream",
          "text": [
            "Top 1 : Chicken Bowl 726\n",
            "Top 2 : Chicken Burrito 553\n",
            "Top 3 : Chips and Guacamole 479\n",
            "Top 4 : Steak Burrito 368\n",
            "Top 5 : Canned Soft Drink 301\n",
            "Top 6 : Chips 211\n",
            "Top 7 : Steak Bowl 211\n",
            "Top 8 : Bottled Water 162\n",
            "Top 9 : Chicken Soft Tacos 115\n",
            "Top 10 : Chips and Fresh Tomato Salsa 110\n"
          ],
          "name": "stdout"
        }
      ]
    },
    {
      "cell_type": "code",
      "metadata": {
        "colab": {
          "base_uri": "https://localhost:8080/",
          "height": 35
        },
        "id": "zyQok1viDBUM",
        "outputId": "066f54a8-9f1c-4728-95bd-2292a0932de8"
      },
      "source": [
        "chipo['item_name'].value_counts().index.tolist()[0]"
      ],
      "execution_count": 20,
      "outputs": [
        {
          "output_type": "execute_result",
          "data": {
            "application/vnd.google.colaboratory.intrinsic+json": {
              "type": "string"
            },
            "text/plain": [
              "'Chicken Bowl'"
            ]
          },
          "metadata": {
            "tags": []
          },
          "execution_count": 20
        }
      ]
    },
    {
      "cell_type": "markdown",
      "metadata": {
        "id": "nXg3_0bSDMwB"
      },
      "source": [
        "### item당 주문 개수와 총량 구하기"
      ]
    },
    {
      "cell_type": "code",
      "metadata": {
        "colab": {
          "base_uri": "https://localhost:8080/",
          "height": 80
        },
        "id": "UpptOH1pCbim",
        "outputId": "7c83273a-9188-423d-bfe1-7e7c4b60f31e"
      },
      "source": [
        "chipo.head(1)"
      ],
      "execution_count": 16,
      "outputs": [
        {
          "output_type": "execute_result",
          "data": {
            "text/html": [
              "<div>\n",
              "<style scoped>\n",
              "    .dataframe tbody tr th:only-of-type {\n",
              "        vertical-align: middle;\n",
              "    }\n",
              "\n",
              "    .dataframe tbody tr th {\n",
              "        vertical-align: top;\n",
              "    }\n",
              "\n",
              "    .dataframe thead th {\n",
              "        text-align: right;\n",
              "    }\n",
              "</style>\n",
              "<table border=\"1\" class=\"dataframe\">\n",
              "  <thead>\n",
              "    <tr style=\"text-align: right;\">\n",
              "      <th></th>\n",
              "      <th>order_id</th>\n",
              "      <th>quantity</th>\n",
              "      <th>item_name</th>\n",
              "      <th>choice_description</th>\n",
              "      <th>item_price</th>\n",
              "    </tr>\n",
              "  </thead>\n",
              "  <tbody>\n",
              "    <tr>\n",
              "      <th>0</th>\n",
              "      <td>1</td>\n",
              "      <td>1</td>\n",
              "      <td>Chips and Fresh Tomato Salsa</td>\n",
              "      <td>NaN</td>\n",
              "      <td>$2.39</td>\n",
              "    </tr>\n",
              "  </tbody>\n",
              "</table>\n",
              "</div>"
            ],
            "text/plain": [
              "  order_id  quantity                     item_name choice_description  \\\n",
              "0  1        1         Chips and Fresh Tomato Salsa  NaN                 \n",
              "\n",
              "  item_price  \n",
              "0  $2.39      "
            ]
          },
          "metadata": {
            "tags": []
          },
          "execution_count": 16
        }
      ]
    },
    {
      "cell_type": "code",
      "metadata": {
        "colab": {
          "base_uri": "https://localhost:8080/"
        },
        "id": "BMMq1029DPYe",
        "outputId": "5b236b6c-706e-48bb-c50f-3490d12ef79b"
      },
      "source": [
        "# item당 주문 개수를 출렵합니다.\n",
        "order_count = chipo.groupby('item_name')['order_id'].count()\n",
        "order_count[:10]"
      ],
      "execution_count": 21,
      "outputs": [
        {
          "output_type": "execute_result",
          "data": {
            "text/plain": [
              "item_name\n",
              "6 Pack Soft Drink        54 \n",
              "Barbacoa Bowl            66 \n",
              "Barbacoa Burrito         91 \n",
              "Barbacoa Crispy Tacos    11 \n",
              "Barbacoa Salad Bowl      10 \n",
              "Barbacoa Soft Tacos      25 \n",
              "Bottled Water            162\n",
              "Bowl                     2  \n",
              "Burrito                  6  \n",
              "Canned Soda              104\n",
              "Name: order_id, dtype: int64"
            ]
          },
          "metadata": {
            "tags": []
          },
          "execution_count": 21
        }
      ]
    },
    {
      "cell_type": "code",
      "metadata": {
        "colab": {
          "base_uri": "https://localhost:8080/"
        },
        "id": "F7iqfoGNDnh8",
        "outputId": "6ef9c79f-1f19-4008-b3bf-5d739b2eb8d0"
      },
      "source": [
        "# item당 주문 총량을 출력합니다\n",
        "item_quantity = chipo.groupby('item_name')['quantity'].sum()\n",
        "item_quantity[:10]"
      ],
      "execution_count": 24,
      "outputs": [
        {
          "output_type": "execute_result",
          "data": {
            "text/plain": [
              "item_name\n",
              "6 Pack Soft Drink        55 \n",
              "Barbacoa Bowl            66 \n",
              "Barbacoa Burrito         91 \n",
              "Barbacoa Crispy Tacos    12 \n",
              "Barbacoa Salad Bowl      10 \n",
              "Barbacoa Soft Tacos      25 \n",
              "Bottled Water            211\n",
              "Bowl                     4  \n",
              "Burrito                  6  \n",
              "Canned Soda              126\n",
              "Name: quantity, dtype: int64"
            ]
          },
          "metadata": {
            "tags": []
          },
          "execution_count": 24
        }
      ]
    },
    {
      "cell_type": "markdown",
      "metadata": {
        "id": "KcQHXpG3EDXt"
      },
      "source": [
        "### 시각화로 분석 결과 살펴보기"
      ]
    },
    {
      "cell_type": "code",
      "metadata": {
        "colab": {
          "base_uri": "https://localhost:8080/",
          "height": 281
        },
        "id": "ae3hmGClEHYn",
        "outputId": "1ae1fd48-0545-43dc-8375-575b87ed907d"
      },
      "source": [
        "#&matplotlib inline\n",
        "import numpy as np\n",
        "import matplotlib.pyplot as plt\n",
        "\n",
        "item_name_list = item_quantity.index.tolist()\n",
        "x_pos = np.arange(len(item_name_list))\n",
        "order_cnt = item_quantity.values.tolist()\n",
        "\n",
        "plt.bar(x_pos, order_cnt, align='center')\n",
        "plt.ylabel('ordered_item_count')\n",
        "plt.title('Distribution of all orderd item')\n",
        "\n",
        "plt.show()"
      ],
      "execution_count": 27,
      "outputs": [
        {
          "output_type": "display_data",
          "data": {
            "image/png": "[encoded data removed]",
            "text/plain": [
              "<Figure size 432x288 with 1 Axes>"
            ]
          },
          "metadata": {
            "tags": [],
            "needs_background": "light"
          }
        }
      ]
    },
    {
      "cell_type": "markdown",
      "metadata": {
        "id": "E52nfIVwHYK3"
      },
      "source": [
        "### 미니 퀴즈 1.1\n",
        "- pandas에서 유용하게 사용되는 함수 value_counts()와 unique의 차이점은 무엇일까요?\n",
        "\n",
        "- 각 함수는 어떤 데이터 타입에 적용이 되는지, 어떤 기능을 가지고 있는지, 정확히 어떤 결과값을 반환하는지 실행해봅시다.\n"
      ]
    },
    {
      "cell_type": "code",
      "metadata": {
        "colab": {
          "base_uri": "https://localhost:8080/"
        },
        "id": "7pRn1PqhHaN_",
        "outputId": "0297021e-2c83-4ca4-83ac-9248e1ff66b9"
      },
      "source": [
        "print(chipo['item_name'].value_counts()[:10])"
      ],
      "execution_count": 28,
      "outputs": [
        {
          "output_type": "stream",
          "text": [
            "Chicken Bowl                    726\n",
            "Chicken Burrito                 553\n",
            "Chips and Guacamole             479\n",
            "Steak Burrito                   368\n",
            "Canned Soft Drink               301\n",
            "Chips                           211\n",
            "Steak Bowl                      211\n",
            "Bottled Water                   162\n",
            "Chicken Soft Tacos              115\n",
            "Chips and Fresh Tomato Salsa    110\n",
            "Name: item_name, dtype: int64\n"
          ],
          "name": "stdout"
        }
      ]
    },
    {
      "cell_type": "code",
      "metadata": {
        "colab": {
          "base_uri": "https://localhost:8080/"
        },
        "id": "Y2L34bYoH9U6",
        "outputId": "cd46c8a0-535e-4c61-d091-dbc304b58087"
      },
      "source": [
        "print(type(chipo['item_name'].value_counts()))"
      ],
      "execution_count": 29,
      "outputs": [
        {
          "output_type": "stream",
          "text": [
            "<class 'pandas.core.series.Series'>\n"
          ],
          "name": "stdout"
        }
      ]
    },
    {
      "cell_type": "code",
      "metadata": {
        "colab": {
          "base_uri": "https://localhost:8080/"
        },
        "id": "og0IbmclISlW",
        "outputId": "b7ea728a-0a2c-4030-c0a0-787477ffd328"
      },
      "source": [
        "print(chipo['item_name'].unique()[:10])"
      ],
      "execution_count": 30,
      "outputs": [
        {
          "output_type": "stream",
          "text": [
            "['Chips and Fresh Tomato Salsa' 'Izze' 'Nantucket Nectar'\n",
            " 'Chips and Tomatillo-Green Chili Salsa' 'Chicken Bowl' 'Side of Chips'\n",
            " 'Steak Burrito' 'Steak Soft Tacos' 'Chips and Guacamole'\n",
            " 'Chicken Crispy Tacos']\n"
          ],
          "name": "stdout"
        }
      ]
    },
    {
      "cell_type": "code",
      "metadata": {
        "id": "WM34OsUNIhUW"
      },
      "source": [
        ""
      ],
      "execution_count": null,
      "outputs": []
    },
    {
      "cell_type": "markdown",
      "metadata": {
        "id": "Y72Mzx5HIiKC"
      },
      "source": [
        "## step3 데이터 전처리"
      ]
    },
    {
      "cell_type": "code",
      "metadata": {
        "colab": {
          "base_uri": "https://localhost:8080/"
        },
        "id": "UzUn5CLzIlcW",
        "outputId": "d9e82869-fbe3-4f7f-d857-77cdb29e9a23"
      },
      "source": [
        "print(chipo.info())\n",
        "print('-------------')\n",
        "chipo['item_price'].head()"
      ],
      "execution_count": 31,
      "outputs": [
        {
          "output_type": "stream",
          "text": [
            "<class 'pandas.core.frame.DataFrame'>\n",
            "RangeIndex: 4622 entries, 0 to 4621\n",
            "Data columns (total 5 columns):\n",
            " #   Column              Non-Null Count  Dtype \n",
            "---  ------              --------------  ----- \n",
            " 0   order_id            4622 non-null   object\n",
            " 1   quantity            4622 non-null   int64 \n",
            " 2   item_name           4622 non-null   object\n",
            " 3   choice_description  3376 non-null   object\n",
            " 4   item_price          4622 non-null   object\n",
            "dtypes: int64(1), object(4)\n",
            "memory usage: 180.7+ KB\n",
            "None\n",
            "-------------\n"
          ],
          "name": "stdout"
        },
        {
          "output_type": "execute_result",
          "data": {
            "text/plain": [
              "0    $2.39  \n",
              "1    $3.39  \n",
              "2    $3.39  \n",
              "3    $2.39  \n",
              "4    $16.98 \n",
              "Name: item_price, dtype: object"
            ]
          },
          "metadata": {
            "tags": []
          },
          "execution_count": 31
        }
      ]
    },
    {
      "cell_type": "code",
      "metadata": {
        "id": "Wrx_P7ydIodQ"
      },
      "source": [
        "# columns 단위에 apply함수로 전처리를 적용합니다.\n",
        "chipo['item_price'] = chipo['item_price'].apply(lambda x: float(x[1:]))"
      ],
      "execution_count": null,
      "outputs": []
    },
    {
      "cell_type": "code",
      "metadata": {
        "colab": {
          "base_uri": "https://localhost:8080/",
          "height": 297
        },
        "id": "xDyG9SIeJeFW",
        "outputId": "bcc9f065-8cfa-43ef-b06e-1e22b40298ea"
      },
      "source": [
        "chipo.describe()"
      ],
      "execution_count": 35,
      "outputs": [
        {
          "output_type": "execute_result",
          "data": {
            "text/html": [
              "<div>\n",
              "<style scoped>\n",
              "    .dataframe tbody tr th:only-of-type {\n",
              "        vertical-align: middle;\n",
              "    }\n",
              "\n",
              "    .dataframe tbody tr th {\n",
              "        vertical-align: top;\n",
              "    }\n",
              "\n",
              "    .dataframe thead th {\n",
              "        text-align: right;\n",
              "    }\n",
              "</style>\n",
              "<table border=\"1\" class=\"dataframe\">\n",
              "  <thead>\n",
              "    <tr style=\"text-align: right;\">\n",
              "      <th></th>\n",
              "      <th>quantity</th>\n",
              "      <th>item_price</th>\n",
              "    </tr>\n",
              "  </thead>\n",
              "  <tbody>\n",
              "    <tr>\n",
              "      <th>count</th>\n",
              "      <td>4622.000000</td>\n",
              "      <td>4622.000000</td>\n",
              "    </tr>\n",
              "    <tr>\n",
              "      <th>mean</th>\n",
              "      <td>1.075725</td>\n",
              "      <td>7.464336</td>\n",
              "    </tr>\n",
              "    <tr>\n",
              "      <th>std</th>\n",
              "      <td>0.410186</td>\n",
              "      <td>4.245557</td>\n",
              "    </tr>\n",
              "    <tr>\n",
              "      <th>min</th>\n",
              "      <td>1.000000</td>\n",
              "      <td>1.090000</td>\n",
              "    </tr>\n",
              "    <tr>\n",
              "      <th>25%</th>\n",
              "      <td>1.000000</td>\n",
              "      <td>3.390000</td>\n",
              "    </tr>\n",
              "    <tr>\n",
              "      <th>50%</th>\n",
              "      <td>1.000000</td>\n",
              "      <td>8.750000</td>\n",
              "    </tr>\n",
              "    <tr>\n",
              "      <th>75%</th>\n",
              "      <td>1.000000</td>\n",
              "      <td>9.250000</td>\n",
              "    </tr>\n",
              "    <tr>\n",
              "      <th>max</th>\n",
              "      <td>15.000000</td>\n",
              "      <td>44.250000</td>\n",
              "    </tr>\n",
              "  </tbody>\n",
              "</table>\n",
              "</div>"
            ],
            "text/plain": [
              "          quantity   item_price\n",
              "count  4622.000000  4622.000000\n",
              "mean   1.075725     7.464336   \n",
              "std    0.410186     4.245557   \n",
              "min    1.000000     1.090000   \n",
              "25%    1.000000     3.390000   \n",
              "50%    1.000000     8.750000   \n",
              "75%    1.000000     9.250000   \n",
              "max    15.000000    44.250000  "
            ]
          },
          "metadata": {
            "tags": []
          },
          "execution_count": 35
        }
      ]
    },
    {
      "cell_type": "code",
      "metadata": {
        "colab": {
          "base_uri": "https://localhost:8080/"
        },
        "id": "6TzbWJz7Jh9h",
        "outputId": "03dc1d1a-53d6-4c99-831d-85c31962962d"
      },
      "source": [
        "chipo['item_price'].head()"
      ],
      "execution_count": 36,
      "outputs": [
        {
          "output_type": "execute_result",
          "data": {
            "text/plain": [
              "0    2.39 \n",
              "1    3.39 \n",
              "2    3.39 \n",
              "3    2.39 \n",
              "4    16.98\n",
              "Name: item_price, dtype: float64"
            ]
          },
          "metadata": {
            "tags": []
          },
          "execution_count": 36
        }
      ]
    },
    {
      "cell_type": "markdown",
      "metadata": {
        "id": "q6TtjRLRJzWk"
      },
      "source": [
        "## step4 탐색적 분석 : 스무고개로 분석하는 개념적 탐색\n",
        "\n",
        "데이터를 이해하기 윟나 조금 더 북잡한 질문들로 탐색적 데이터 분석 연습하기\n",
        "- 주문당 평균 계산금액 출력하기\n",
        "- 한 주문에 10달러 이상 사용한 주문의 id들 출력하기\n",
        "- 각 아이템의 가격 구하기\n",
        "- 가장 비싼 주문에서 item이 몇개 팔렸는지 구하기\n",
        "- “Veggie Salad Bowl”이 몇 번 주문되었는지 구하기\n",
        "- “Chicken Bowl”을 2개 이상 주문한 주문 횟수 구하기"
      ]
    },
    {
      "cell_type": "markdown",
      "metadata": {
        "id": "g0NjMIyBJ2hE"
      },
      "source": [
        "### 주문당 평균 계산금액 출력하기"
      ]
    },
    {
      "cell_type": "code",
      "metadata": {
        "colab": {
          "base_uri": "https://localhost:8080/"
        },
        "id": "_JFvua8VJ1DR",
        "outputId": "815b7cf1-79f0-4794-9a7f-6f43f80ddedc"
      },
      "source": [
        "chipo.groupby('order_id')['item_price'].sum().mean()"
      ],
      "execution_count": 37,
      "outputs": [
        {
          "output_type": "execute_result",
          "data": {
            "text/plain": [
              "18.811428571428717"
            ]
          },
          "metadata": {
            "tags": []
          },
          "execution_count": 37
        }
      ]
    },
    {
      "cell_type": "code",
      "metadata": {
        "colab": {
          "base_uri": "https://localhost:8080/"
        },
        "id": "RRVO8n6LKIrc",
        "outputId": "d6117e37-5426-4a22-fb1c-748b6d126bc7"
      },
      "source": [
        "chipo.groupby('order_id')['item_price'].sum().describe()[:10]"
      ],
      "execution_count": 38,
      "outputs": [
        {
          "output_type": "execute_result",
          "data": {
            "text/plain": [
              "count    1834.000000\n",
              "mean     18.811429  \n",
              "std      11.652512  \n",
              "min      10.080000  \n",
              "25%      12.572500  \n",
              "50%      16.200000  \n",
              "75%      21.960000  \n",
              "max      205.250000 \n",
              "Name: item_price, dtype: float64"
            ]
          },
          "metadata": {
            "tags": []
          },
          "execution_count": 38
        }
      ]
    },
    {
      "cell_type": "markdown",
      "metadata": {
        "id": "v30l8sxlKQ-t"
      },
      "source": [
        "### 한 주문에 10달러 이상 사용한 주문의 id들 출력하기"
      ]
    },
    {
      "cell_type": "code",
      "metadata": {
        "colab": {
          "base_uri": "https://localhost:8080/"
        },
        "id": "1rJlW5vZKSKE",
        "outputId": "308038b7-c65e-404e-c97f-dc73f2add50a"
      },
      "source": [
        "chipo_orderid_group = chipo.groupby('order_id').sum()\n",
        "results = chipo_orderid_group[chipo_orderid_group.item_price >= 10]\n",
        "\n",
        "print(results[:10])\n",
        "print(results.index.values)\n",
        "print(chipo_orderid_group.head())"
      ],
      "execution_count": 40,
      "outputs": [
        {
          "output_type": "stream",
          "text": [
            "          quantity  item_price\n",
            "order_id                      \n",
            "1         4         11.56     \n",
            "10        2         13.20     \n",
            "100       2         10.08     \n",
            "1000      2         20.50     \n",
            "1001      2         10.08     \n",
            "1002      2         10.68     \n",
            "1003      2         13.00     \n",
            "1004      2         21.96     \n",
            "1005      3         12.15     \n",
            "1006      8         71.40     \n",
            "['1' '10' '100' ... '997' '998' '999']\n",
            "          quantity  item_price\n",
            "order_id                      \n",
            "1         4         11.56     \n",
            "10        2         13.20     \n",
            "100       2         10.08     \n",
            "1000      2         20.50     \n",
            "1001      2         10.08     \n"
          ],
          "name": "stdout"
        }
      ]
    },
    {
      "cell_type": "markdown",
      "metadata": {
        "id": "oNVH6YlqK1O7"
      },
      "source": [
        "### 각 아이템의 가격 구하기"
      ]
    },
    {
      "cell_type": "code",
      "metadata": {
        "colab": {
          "base_uri": "https://localhost:8080/",
          "height": 390
        },
        "id": "o82BCtoVK3kh",
        "outputId": "cb3fb4cc-1b81-4e8d-dddb-66a9c4463302"
      },
      "source": [
        "chipo_one_item = chipo[chipo.quantity == 1]\n",
        "price_per_item = chipo_one_item.groupby('item_name').min()\n",
        "price_per_item.sort_values(by = \"item_price\", ascending = False)[:10]"
      ],
      "execution_count": 41,
      "outputs": [
        {
          "output_type": "execute_result",
          "data": {
            "text/html": [
              "<div>\n",
              "<style scoped>\n",
              "    .dataframe tbody tr th:only-of-type {\n",
              "        vertical-align: middle;\n",
              "    }\n",
              "\n",
              "    .dataframe tbody tr th {\n",
              "        vertical-align: top;\n",
              "    }\n",
              "\n",
              "    .dataframe thead th {\n",
              "        text-align: right;\n",
              "    }\n",
              "</style>\n",
              "<table border=\"1\" class=\"dataframe\">\n",
              "  <thead>\n",
              "    <tr style=\"text-align: right;\">\n",
              "      <th></th>\n",
              "      <th>order_id</th>\n",
              "      <th>quantity</th>\n",
              "      <th>choice_description</th>\n",
              "      <th>item_price</th>\n",
              "    </tr>\n",
              "    <tr>\n",
              "      <th>item_name</th>\n",
              "      <th></th>\n",
              "      <th></th>\n",
              "      <th></th>\n",
              "      <th></th>\n",
              "    </tr>\n",
              "  </thead>\n",
              "  <tbody>\n",
              "    <tr>\n",
              "      <th>Steak Salad Bowl</th>\n",
              "      <td>1032</td>\n",
              "      <td>1</td>\n",
              "      <td>[Fresh Tomato Salsa, Lettuce]</td>\n",
              "      <td>9.39</td>\n",
              "    </tr>\n",
              "    <tr>\n",
              "      <th>Barbacoa Salad Bowl</th>\n",
              "      <td>1283</td>\n",
              "      <td>1</td>\n",
              "      <td>[Fresh Tomato Salsa, Guacamole]</td>\n",
              "      <td>9.39</td>\n",
              "    </tr>\n",
              "    <tr>\n",
              "      <th>Carnitas Salad Bowl</th>\n",
              "      <td>1035</td>\n",
              "      <td>1</td>\n",
              "      <td>[Fresh Tomato Salsa, [Rice, Black Beans, Cheese, Guacamole]]</td>\n",
              "      <td>9.39</td>\n",
              "    </tr>\n",
              "    <tr>\n",
              "      <th>Carnitas Soft Tacos</th>\n",
              "      <td>1011</td>\n",
              "      <td>1</td>\n",
              "      <td>[Fresh Tomato Salsa (Mild), [Black Beans, Rice, Fajita Veggies, Cheese, Lettuce]]</td>\n",
              "      <td>8.99</td>\n",
              "    </tr>\n",
              "    <tr>\n",
              "      <th>Carnitas Crispy Tacos</th>\n",
              "      <td>1774</td>\n",
              "      <td>1</td>\n",
              "      <td>[Fresh Tomato Salsa, [Fajita Vegetables, Rice, Black Beans, Cheese, Sour Cream, Guacamole, Lettuce]]</td>\n",
              "      <td>8.99</td>\n",
              "    </tr>\n",
              "    <tr>\n",
              "      <th>Steak Soft Tacos</th>\n",
              "      <td>1054</td>\n",
              "      <td>1</td>\n",
              "      <td>[Fresh Tomato Salsa (Mild), [Cheese, Sour Cream]]</td>\n",
              "      <td>8.99</td>\n",
              "    </tr>\n",
              "    <tr>\n",
              "      <th>Carnitas Salad</th>\n",
              "      <td>1500</td>\n",
              "      <td>1</td>\n",
              "      <td>[[Fresh Tomato Salsa (Mild), Roasted Chili Corn Salsa (Medium)], [Black Beans, Rice, Cheese, Sour Cream]]</td>\n",
              "      <td>8.99</td>\n",
              "    </tr>\n",
              "    <tr>\n",
              "      <th>Carnitas Bowl</th>\n",
              "      <td>1007</td>\n",
              "      <td>1</td>\n",
              "      <td>[Fresh Tomato (Mild), [Guacamole, Lettuce, Rice, Sour Cream, Cheese]]</td>\n",
              "      <td>8.99</td>\n",
              "    </tr>\n",
              "    <tr>\n",
              "      <th>Barbacoa Soft Tacos</th>\n",
              "      <td>1103</td>\n",
              "      <td>1</td>\n",
              "      <td>[Fresh Tomato Salsa, [Black Beans, Cheese, Lettuce]]</td>\n",
              "      <td>8.99</td>\n",
              "    </tr>\n",
              "    <tr>\n",
              "      <th>Barbacoa Crispy Tacos</th>\n",
              "      <td>110</td>\n",
              "      <td>1</td>\n",
              "      <td>[Fresh Tomato Salsa, Guacamole]</td>\n",
              "      <td>8.99</td>\n",
              "    </tr>\n",
              "  </tbody>\n",
              "</table>\n",
              "</div>"
            ],
            "text/plain": [
              "                      order_id  quantity  \\\n",
              "item_name                                  \n",
              "Steak Salad Bowl       1032     1          \n",
              "Barbacoa Salad Bowl    1283     1          \n",
              "Carnitas Salad Bowl    1035     1          \n",
              "Carnitas Soft Tacos    1011     1          \n",
              "Carnitas Crispy Tacos  1774     1          \n",
              "Steak Soft Tacos       1054     1          \n",
              "Carnitas Salad         1500     1          \n",
              "Carnitas Bowl          1007     1          \n",
              "Barbacoa Soft Tacos    1103     1          \n",
              "Barbacoa Crispy Tacos  110      1          \n",
              "\n",
              "                                                                                                              choice_description  \\\n",
              "item_name                                                                                                                          \n",
              "Steak Salad Bowl       [Fresh Tomato Salsa, Lettuce]                                                                               \n",
              "Barbacoa Salad Bowl    [Fresh Tomato Salsa, Guacamole]                                                                             \n",
              "Carnitas Salad Bowl    [Fresh Tomato Salsa, [Rice, Black Beans, Cheese, Guacamole]]                                                \n",
              "Carnitas Soft Tacos    [Fresh Tomato Salsa (Mild), [Black Beans, Rice, Fajita Veggies, Cheese, Lettuce]]                           \n",
              "Carnitas Crispy Tacos  [Fresh Tomato Salsa, [Fajita Vegetables, Rice, Black Beans, Cheese, Sour Cream, Guacamole, Lettuce]]        \n",
              "Steak Soft Tacos       [Fresh Tomato Salsa (Mild), [Cheese, Sour Cream]]                                                           \n",
              "Carnitas Salad         [[Fresh Tomato Salsa (Mild), Roasted Chili Corn Salsa (Medium)], [Black Beans, Rice, Cheese, Sour Cream]]   \n",
              "Carnitas Bowl          [Fresh Tomato (Mild), [Guacamole, Lettuce, Rice, Sour Cream, Cheese]]                                       \n",
              "Barbacoa Soft Tacos    [Fresh Tomato Salsa, [Black Beans, Cheese, Lettuce]]                                                        \n",
              "Barbacoa Crispy Tacos  [Fresh Tomato Salsa, Guacamole]                                                                             \n",
              "\n",
              "                       item_price  \n",
              "item_name                          \n",
              "Steak Salad Bowl       9.39        \n",
              "Barbacoa Salad Bowl    9.39        \n",
              "Carnitas Salad Bowl    9.39        \n",
              "Carnitas Soft Tacos    8.99        \n",
              "Carnitas Crispy Tacos  8.99        \n",
              "Steak Soft Tacos       8.99        \n",
              "Carnitas Salad         8.99        \n",
              "Carnitas Bowl          8.99        \n",
              "Barbacoa Soft Tacos    8.99        \n",
              "Barbacoa Crispy Tacos  8.99        "
            ]
          },
          "metadata": {
            "tags": []
          },
          "execution_count": 41
        }
      ]
    },
    {
      "cell_type": "code",
      "metadata": {
        "colab": {
          "base_uri": "https://localhost:8080/"
        },
        "id": "c8UIh_nRO7U7",
        "outputId": "eeb166af-77a5-486b-cc6c-cf97d50b1b65"
      },
      "source": [
        "print(len(chipo['item_name'].unique()))\n",
        "print(len(chipo[chipo.quantity == 1]))"
      ],
      "execution_count": 56,
      "outputs": [
        {
          "output_type": "stream",
          "text": [
            "50\n",
            "4355\n"
          ],
          "name": "stdout"
        }
      ]
    },
    {
      "cell_type": "code",
      "metadata": {
        "colab": {
          "base_uri": "https://localhost:8080/",
          "height": 204
        },
        "id": "MCJP2icQLVzn",
        "outputId": "328816ee-8606-4789-c304-b0a2a49c90b1"
      },
      "source": [
        "chipo_one_item.head()"
      ],
      "execution_count": 42,
      "outputs": [
        {
          "output_type": "execute_result",
          "data": {
            "text/html": [
              "<div>\n",
              "<style scoped>\n",
              "    .dataframe tbody tr th:only-of-type {\n",
              "        vertical-align: middle;\n",
              "    }\n",
              "\n",
              "    .dataframe tbody tr th {\n",
              "        vertical-align: top;\n",
              "    }\n",
              "\n",
              "    .dataframe thead th {\n",
              "        text-align: right;\n",
              "    }\n",
              "</style>\n",
              "<table border=\"1\" class=\"dataframe\">\n",
              "  <thead>\n",
              "    <tr style=\"text-align: right;\">\n",
              "      <th></th>\n",
              "      <th>order_id</th>\n",
              "      <th>quantity</th>\n",
              "      <th>item_name</th>\n",
              "      <th>choice_description</th>\n",
              "      <th>item_price</th>\n",
              "    </tr>\n",
              "  </thead>\n",
              "  <tbody>\n",
              "    <tr>\n",
              "      <th>0</th>\n",
              "      <td>1</td>\n",
              "      <td>1</td>\n",
              "      <td>Chips and Fresh Tomato Salsa</td>\n",
              "      <td>NaN</td>\n",
              "      <td>2.39</td>\n",
              "    </tr>\n",
              "    <tr>\n",
              "      <th>1</th>\n",
              "      <td>1</td>\n",
              "      <td>1</td>\n",
              "      <td>Izze</td>\n",
              "      <td>[Clementine]</td>\n",
              "      <td>3.39</td>\n",
              "    </tr>\n",
              "    <tr>\n",
              "      <th>2</th>\n",
              "      <td>1</td>\n",
              "      <td>1</td>\n",
              "      <td>Nantucket Nectar</td>\n",
              "      <td>[Apple]</td>\n",
              "      <td>3.39</td>\n",
              "    </tr>\n",
              "    <tr>\n",
              "      <th>3</th>\n",
              "      <td>1</td>\n",
              "      <td>1</td>\n",
              "      <td>Chips and Tomatillo-Green Chili Salsa</td>\n",
              "      <td>NaN</td>\n",
              "      <td>2.39</td>\n",
              "    </tr>\n",
              "    <tr>\n",
              "      <th>5</th>\n",
              "      <td>3</td>\n",
              "      <td>1</td>\n",
              "      <td>Chicken Bowl</td>\n",
              "      <td>[Fresh Tomato Salsa (Mild), [Rice, Cheese, Sour Cream, Guacamole, Lettuce]]</td>\n",
              "      <td>10.98</td>\n",
              "    </tr>\n",
              "  </tbody>\n",
              "</table>\n",
              "</div>"
            ],
            "text/plain": [
              "  order_id  quantity                              item_name  \\\n",
              "0  1        1         Chips and Fresh Tomato Salsa            \n",
              "1  1        1         Izze                                    \n",
              "2  1        1         Nantucket Nectar                        \n",
              "3  1        1         Chips and Tomatillo-Green Chili Salsa   \n",
              "5  3        1         Chicken Bowl                            \n",
              "\n",
              "                                                            choice_description  \\\n",
              "0  NaN                                                                           \n",
              "1  [Clementine]                                                                  \n",
              "2  [Apple]                                                                       \n",
              "3  NaN                                                                           \n",
              "5  [Fresh Tomato Salsa (Mild), [Rice, Cheese, Sour Cream, Guacamole, Lettuce]]   \n",
              "\n",
              "   item_price  \n",
              "0  2.39        \n",
              "1  3.39        \n",
              "2  3.39        \n",
              "3  2.39        \n",
              "5  10.98       "
            ]
          },
          "metadata": {
            "tags": []
          },
          "execution_count": 42
        }
      ]
    },
    {
      "cell_type": "code",
      "metadata": {
        "colab": {
          "base_uri": "https://localhost:8080/",
          "height": 281
        },
        "id": "hYEdWTDHLw5i",
        "outputId": "886ca549-6d2b-41be-9838-b00c391d5662"
      },
      "source": [
        "# 아이템 가격 분포 그래프를 출력합니다.\n",
        "item_name_list = price_per_item.index.tolist()\n",
        "x_pos = np.arange(len(item_name_list))\n",
        "item_price = price_per_item['item_price'].tolist()\n",
        " \n",
        "plt.bar(x_pos, item_price, align='center')\n",
        "plt.ylabel('item price($)')\n",
        "plt.title('Distribution of item price')\n",
        " \n",
        "plt.show()"
      ],
      "execution_count": 43,
      "outputs": [
        {
          "output_type": "display_data",
          "data": {
            "image/png": "[encoded data removed]",
            "text/plain": [
              "<Figure size 432x288 with 1 Axes>"
            ]
          },
          "metadata": {
            "tags": [],
            "needs_background": "light"
          }
        }
      ]
    },
    {
      "cell_type": "code",
      "metadata": {
        "colab": {
          "base_uri": "https://localhost:8080/",
          "height": 281
        },
        "id": "1OUEN1nNMBf6",
        "outputId": "2f999bc4-0842-45c6-fc83-08954a881591"
      },
      "source": [
        "\n",
        "# 아이템 가격 히스토그램을 출력합니다.\n",
        "plt.hist(item_price)\n",
        "plt.ylabel('counts')\n",
        "plt.title('Histogram of item price')\n",
        "\n",
        "plt.show()"
      ],
      "execution_count": 44,
      "outputs": [
        {
          "output_type": "display_data",
          "data": {
            "image/png": "[encoded data removed]",
            "text/plain": [
              "<Figure size 432x288 with 1 Axes>"
            ]
          },
          "metadata": {
            "tags": [],
            "needs_background": "light"
          }
        }
      ]
    },
    {
      "cell_type": "markdown",
      "metadata": {
        "id": "jNd_wnocMG37"
      },
      "source": [
        "### 가장 비싼 주문에서 item이 총 몇개 팔렸는지 구하기"
      ]
    },
    {
      "cell_type": "code",
      "metadata": {
        "colab": {
          "base_uri": "https://localhost:8080/",
          "height": 235
        },
        "id": "h8KkP-FWMKfd",
        "outputId": "4effafbe-3a03-40c5-d6c1-9a5b446fe364"
      },
      "source": [
        "chipo.groupby('order_id').sum().sort_values(by='item_price', ascending=False)[:5]"
      ],
      "execution_count": 45,
      "outputs": [
        {
          "output_type": "execute_result",
          "data": {
            "text/html": [
              "<div>\n",
              "<style scoped>\n",
              "    .dataframe tbody tr th:only-of-type {\n",
              "        vertical-align: middle;\n",
              "    }\n",
              "\n",
              "    .dataframe tbody tr th {\n",
              "        vertical-align: top;\n",
              "    }\n",
              "\n",
              "    .dataframe thead th {\n",
              "        text-align: right;\n",
              "    }\n",
              "</style>\n",
              "<table border=\"1\" class=\"dataframe\">\n",
              "  <thead>\n",
              "    <tr style=\"text-align: right;\">\n",
              "      <th></th>\n",
              "      <th>quantity</th>\n",
              "      <th>item_price</th>\n",
              "    </tr>\n",
              "    <tr>\n",
              "      <th>order_id</th>\n",
              "      <th></th>\n",
              "      <th></th>\n",
              "    </tr>\n",
              "  </thead>\n",
              "  <tbody>\n",
              "    <tr>\n",
              "      <th>926</th>\n",
              "      <td>23</td>\n",
              "      <td>205.25</td>\n",
              "    </tr>\n",
              "    <tr>\n",
              "      <th>1443</th>\n",
              "      <td>35</td>\n",
              "      <td>160.74</td>\n",
              "    </tr>\n",
              "    <tr>\n",
              "      <th>1483</th>\n",
              "      <td>14</td>\n",
              "      <td>139.00</td>\n",
              "    </tr>\n",
              "    <tr>\n",
              "      <th>691</th>\n",
              "      <td>11</td>\n",
              "      <td>118.25</td>\n",
              "    </tr>\n",
              "    <tr>\n",
              "      <th>1786</th>\n",
              "      <td>20</td>\n",
              "      <td>114.30</td>\n",
              "    </tr>\n",
              "  </tbody>\n",
              "</table>\n",
              "</div>"
            ],
            "text/plain": [
              "          quantity  item_price\n",
              "order_id                      \n",
              "926       23        205.25    \n",
              "1443      35        160.74    \n",
              "1483      14        139.00    \n",
              "691       11        118.25    \n",
              "1786      20        114.30    "
            ]
          },
          "metadata": {
            "tags": []
          },
          "execution_count": 45
        }
      ]
    },
    {
      "cell_type": "markdown",
      "metadata": {
        "id": "Hkn3AssrMkzV"
      },
      "source": [
        "### Veggie Salad Bowl이 몇 번 주문되었는지 구하기"
      ]
    },
    {
      "cell_type": "code",
      "metadata": {
        "colab": {
          "base_uri": "https://localhost:8080/",
          "height": 221
        },
        "id": "6xTRQ8PNMpcH",
        "outputId": "597bd55e-aab1-4973-937a-8c3c55785ffd"
      },
      "source": [
        "chipo_salad = chipo[chipo['item_name']=='Veggie Salad Bowl']\n",
        "chipo_salad = chipo_salad.drop_duplicates(['item_name', 'order_id'])\n",
        "\n",
        "print(len(chipo_salad))\n",
        "chipo_salad.head()"
      ],
      "execution_count": 47,
      "outputs": [
        {
          "output_type": "stream",
          "text": [
            "18\n"
          ],
          "name": "stdout"
        },
        {
          "output_type": "execute_result",
          "data": {
            "text/html": [
              "<div>\n",
              "<style scoped>\n",
              "    .dataframe tbody tr th:only-of-type {\n",
              "        vertical-align: middle;\n",
              "    }\n",
              "\n",
              "    .dataframe tbody tr th {\n",
              "        vertical-align: top;\n",
              "    }\n",
              "\n",
              "    .dataframe thead th {\n",
              "        text-align: right;\n",
              "    }\n",
              "</style>\n",
              "<table border=\"1\" class=\"dataframe\">\n",
              "  <thead>\n",
              "    <tr style=\"text-align: right;\">\n",
              "      <th></th>\n",
              "      <th>order_id</th>\n",
              "      <th>quantity</th>\n",
              "      <th>item_name</th>\n",
              "      <th>choice_description</th>\n",
              "      <th>item_price</th>\n",
              "    </tr>\n",
              "  </thead>\n",
              "  <tbody>\n",
              "    <tr>\n",
              "      <th>186</th>\n",
              "      <td>83</td>\n",
              "      <td>1</td>\n",
              "      <td>Veggie Salad Bowl</td>\n",
              "      <td>[Fresh Tomato Salsa, [Fajita Vegetables, Rice, Black Beans, Cheese, Sour Cream, Guacamole, Lettuce]]</td>\n",
              "      <td>11.25</td>\n",
              "    </tr>\n",
              "    <tr>\n",
              "      <th>295</th>\n",
              "      <td>128</td>\n",
              "      <td>1</td>\n",
              "      <td>Veggie Salad Bowl</td>\n",
              "      <td>[Fresh Tomato Salsa, [Fajita Vegetables, Lettuce, Guacamole, Sour Cream, Cheese, Black Beans, Rice]]</td>\n",
              "      <td>11.25</td>\n",
              "    </tr>\n",
              "    <tr>\n",
              "      <th>455</th>\n",
              "      <td>195</td>\n",
              "      <td>1</td>\n",
              "      <td>Veggie Salad Bowl</td>\n",
              "      <td>[Fresh Tomato Salsa, [Fajita Vegetables, Rice, Black Beans, Cheese, Guacamole, Lettuce]]</td>\n",
              "      <td>11.25</td>\n",
              "    </tr>\n",
              "    <tr>\n",
              "      <th>496</th>\n",
              "      <td>207</td>\n",
              "      <td>1</td>\n",
              "      <td>Veggie Salad Bowl</td>\n",
              "      <td>[Fresh Tomato Salsa, [Rice, Lettuce, Guacamole, Fajita Vegetables, Cheese, Sour Cream, Black Beans]]</td>\n",
              "      <td>11.25</td>\n",
              "    </tr>\n",
              "    <tr>\n",
              "      <th>960</th>\n",
              "      <td>394</td>\n",
              "      <td>1</td>\n",
              "      <td>Veggie Salad Bowl</td>\n",
              "      <td>[Fresh Tomato Salsa, [Fajita Vegetables, Lettuce]]</td>\n",
              "      <td>8.75</td>\n",
              "    </tr>\n",
              "  </tbody>\n",
              "</table>\n",
              "</div>"
            ],
            "text/plain": [
              "    order_id  quantity          item_name  \\\n",
              "186  83       1         Veggie Salad Bowl   \n",
              "295  128      1         Veggie Salad Bowl   \n",
              "455  195      1         Veggie Salad Bowl   \n",
              "496  207      1         Veggie Salad Bowl   \n",
              "960  394      1         Veggie Salad Bowl   \n",
              "\n",
              "                                                                                       choice_description  \\\n",
              "186  [Fresh Tomato Salsa, [Fajita Vegetables, Rice, Black Beans, Cheese, Sour Cream, Guacamole, Lettuce]]   \n",
              "295  [Fresh Tomato Salsa, [Fajita Vegetables, Lettuce, Guacamole, Sour Cream, Cheese, Black Beans, Rice]]   \n",
              "455  [Fresh Tomato Salsa, [Fajita Vegetables, Rice, Black Beans, Cheese, Guacamole, Lettuce]]               \n",
              "496  [Fresh Tomato Salsa, [Rice, Lettuce, Guacamole, Fajita Vegetables, Cheese, Sour Cream, Black Beans]]   \n",
              "960  [Fresh Tomato Salsa, [Fajita Vegetables, Lettuce]]                                                     \n",
              "\n",
              "     item_price  \n",
              "186  11.25       \n",
              "295  11.25       \n",
              "455  11.25       \n",
              "496  11.25       \n",
              "960  8.75        "
            ]
          },
          "metadata": {
            "tags": []
          },
          "execution_count": 47
        }
      ]
    },
    {
      "cell_type": "code",
      "metadata": {
        "id": "Rr8BULBBNPFQ"
      },
      "source": [
        "# 이 코드하고 다른게 뭔지??\n",
        "chipo_salad = chipo[chipo['item_name']=='Veggie Salad Bowl'].value_counts()"
      ],
      "execution_count": 49,
      "outputs": []
    },
    {
      "cell_type": "code",
      "metadata": {
        "colab": {
          "base_uri": "https://localhost:8080/"
        },
        "id": "5g00UyNCNXU8",
        "outputId": "b9374109-2787-4a85-fe2b-7f00fce036bf"
      },
      "source": [
        "chipo_salad"
      ],
      "execution_count": 52,
      "outputs": [
        {
          "output_type": "execute_result",
          "data": {
            "text/plain": [
              "order_id  quantity  item_name          choice_description                                                                                    item_price\n",
              "913       1         Veggie Salad Bowl  [Fresh Tomato Salsa, [Fajita Vegetables, Rice, Pinto Beans, Cheese, Lettuce]]                         8.75          1\n",
              "896       1         Veggie Salad Bowl  [Roasted Chili Corn Salsa, Fajita Vegetables]                                                         8.75          1\n",
              "128       1         Veggie Salad Bowl  [Fresh Tomato Salsa, [Fajita Vegetables, Lettuce, Guacamole, Sour Cream, Cheese, Black Beans, Rice]]  11.25         1\n",
              "1289      1         Veggie Salad Bowl  [Tomatillo Red Chili Salsa, [Fajita Vegetables, Rice, Black Beans, Cheese, Guacamole]]                11.25         1\n",
              "1321      1         Veggie Salad Bowl  [Fresh Tomato Salsa, [Rice, Black Beans, Cheese, Sour Cream]]                                         8.75          1\n",
              "1646      1         Veggie Salad Bowl  [Tomatillo Red Chili Salsa, [Fajita Vegetables, Rice, Black Beans, Cheese, Guacamole, Lettuce]]       11.25         1\n",
              "1677      1         Veggie Salad Bowl  [Fresh Tomato Salsa, [Fajita Vegetables, Black Beans, Guacamole]]                                     11.25         1\n",
              "1700      1         Veggie Salad Bowl  [Fresh Tomato Salsa, [Fajita Vegetables, Rice, Guacamole]]                                            11.25         1\n",
              "1805      1         Veggie Salad Bowl  [Tomatillo Green Chili Salsa, [Fajita Vegetables, Rice, Black Beans, Cheese, Sour Cream, Lettuce]]    8.75          1\n",
              "1818      1         Veggie Salad Bowl  [Fresh Tomato Salsa, [Fajita Vegetables, Pinto Beans, Lettuce]]                                       8.75          1\n",
              "195       1         Veggie Salad Bowl  [Fresh Tomato Salsa, [Fajita Vegetables, Rice, Black Beans, Cheese, Guacamole, Lettuce]]              11.25         1\n",
              "207       1         Veggie Salad Bowl  [Fresh Tomato Salsa, [Rice, Lettuce, Guacamole, Fajita Vegetables, Cheese, Sour Cream, Black Beans]]  11.25         1\n",
              "394       1         Veggie Salad Bowl  [Fresh Tomato Salsa, [Fajita Vegetables, Lettuce]]                                                    8.75          1\n",
              "536       1         Veggie Salad Bowl  [Fresh Tomato Salsa, [Fajita Vegetables, Rice, Black Beans, Cheese, Sour Cream]]                      8.75          1\n",
              "760       1         Veggie Salad Bowl  [Fresh Tomato Salsa, [Fajita Vegetables, Rice, Black Beans, Cheese, Guacamole, Lettuce]]              11.25         1\n",
              "83        1         Veggie Salad Bowl  [Fresh Tomato Salsa, [Fajita Vegetables, Rice, Black Beans, Cheese, Sour Cream, Guacamole, Lettuce]]  11.25         1\n",
              "869       1         Veggie Salad Bowl  [Tomatillo Red Chili Salsa, [Fajita Vegetables, Rice, Black Beans, Cheese, Guacamole]]                11.25         1\n",
              "1066      1         Veggie Salad Bowl  [Roasted Chili Corn Salsa, [Fajita Vegetables, Rice, Black Beans, Lettuce]]                           8.75          1\n",
              "dtype: int64"
            ]
          },
          "metadata": {
            "tags": []
          },
          "execution_count": 52
        }
      ]
    },
    {
      "cell_type": "markdown",
      "metadata": {
        "id": "KK_vR62zNrqy"
      },
      "source": [
        "### Chicken Bowl을 2개 이상 주문한 횟숫 구하기"
      ]
    },
    {
      "cell_type": "code",
      "metadata": {
        "colab": {
          "base_uri": "https://localhost:8080/"
        },
        "id": "MmX1N-ltNz9m",
        "outputId": "bfca9319-e004-402e-8709-5ec7b5851ace"
      },
      "source": [
        "chipo_chicken = chipo[chipo['item_name'] == \"Chicken Bowl\"]\n",
        "chipo_chicken_ordersum = chipo_chicken.groupby('order_id').sum()['quantity']\n",
        "chipo_chicken_result = chipo_chicken_ordersum[chipo_chicken_ordersum >= 2]\n",
        "\n",
        "print(len(chipo_chicken_result))\n",
        "chipo_chicken_result.head(5)"
      ],
      "execution_count": 54,
      "outputs": [
        {
          "output_type": "stream",
          "text": [
            "114\n"
          ],
          "name": "stdout"
        },
        {
          "output_type": "execute_result",
          "data": {
            "text/plain": [
              "order_id\n",
              "1004    2\n",
              "1023    2\n",
              "1072    2\n",
              "1078    2\n",
              "1091    2\n",
              "Name: quantity, dtype: int64"
            ]
          },
          "metadata": {
            "tags": []
          },
          "execution_count": 54
        }
      ]
    }
  ]
}